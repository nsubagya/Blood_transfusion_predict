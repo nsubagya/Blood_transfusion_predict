{
 "cells": [
  {
   "cell_type": "markdown",
   "id": "d71a4547-0758-4346-8f37-03de84f30325",
   "metadata": {},
   "source": [
    "The dataset from the Blood Transfusion Service Center in Hsin-Chu City, Taiwan, includes 748 randomly selected donors with five variables: Recency, Frequency, Monetary, Time, and a binary indicator for March 2007 donations. The data, collected from a mobile blood donation vehicle visiting universities, aims to predict future blood donations.\n",
    "\n",
    "The RFMTC model extends the traditional RFM model by adding Time and a Classification variable, enhancing customer segmentation and behavior prediction:\n",
    "\n",
    "- Recency (R): Months since the last donation.\n",
    "- Frequency (F): Total number of donations.\n",
    "- Monetary (M): Total blood donated in cubic centimeters (c.c.)c.c.\n",
    "- Time (T): Months since the first donation.\n",
    "- Classification (C): Donation status in a specific month.\n",
    "\n",
    "This advanced model is particularly useful for customer analysis and targeted marketing in non-profits like blood transfusion centers."
   ]
  },
  {
   "cell_type": "markdown",
   "id": "b7b10d55-fac3-48bf-9695-202400909774",
   "metadata": {},
   "source": [
    "First read the .CSV file located at the file_path into a pandas DataFrame. If successful, it prints a success message; if unsuccessful, it prints an error message."
   ]
  },
  {
   "cell_type": "code",
   "execution_count": 3,
   "id": "aec08d79-8df4-4f7c-8235-044ce5f48f03",
   "metadata": {},
   "outputs": [
    {
     "name": "stdout",
     "output_type": "stream",
     "text": [
      "Data read into the dataframe df!\n"
     ]
    }
   ],
   "source": [
    "import pandas as pd\n",
    "import numpy as np\n",
    "\n",
    "file_path = r\"C:\\Users\\subag\\Downloads\\GitHub\\properties\\100_python\\transfusion.csv\" \n",
    "\n",
    "try:\n",
    "    # Attempt to read the Excel file into a DataFrame\n",
    "    df = pd.read_csv(file_path)\n",
    "    \n",
    "    # If successful, print a success message\n",
    "    print('Data read into the dataframe df!')\n",
    "except Exception as e:\n",
    "    # If unsuccessful, print an error message\n",
    "    print(f'Failed to retrieve data from the Excel file. Error: {e}')\n"
   ]
  },
  {
   "cell_type": "markdown",
   "id": "ad58b988-6726-4455-8e44-02be08368c00",
   "metadata": {},
   "source": [
    "Check the data frame and understand each column. Can use df.head() or df.tail() as needed."
   ]
  },
  {
   "cell_type": "code",
   "execution_count": 5,
   "id": "471bc90b-4aa1-4ec6-9c23-728cb4c80a6a",
   "metadata": {},
   "outputs": [
    {
     "data": {
      "text/html": [
       "<div>\n",
       "<style scoped>\n",
       "    .dataframe tbody tr th:only-of-type {\n",
       "        vertical-align: middle;\n",
       "    }\n",
       "\n",
       "    .dataframe tbody tr th {\n",
       "        vertical-align: top;\n",
       "    }\n",
       "\n",
       "    .dataframe thead th {\n",
       "        text-align: right;\n",
       "    }\n",
       "</style>\n",
       "<table border=\"1\" class=\"dataframe\">\n",
       "  <thead>\n",
       "    <tr style=\"text-align: right;\">\n",
       "      <th></th>\n",
       "      <th>Recency (months)</th>\n",
       "      <th>Frequency (times)</th>\n",
       "      <th>Monetary (c.c. blood)</th>\n",
       "      <th>Time (months)</th>\n",
       "      <th>whether he/she donated blood in March 2007</th>\n",
       "    </tr>\n",
       "  </thead>\n",
       "  <tbody>\n",
       "    <tr>\n",
       "      <th>0</th>\n",
       "      <td>2</td>\n",
       "      <td>50</td>\n",
       "      <td>12500</td>\n",
       "      <td>98</td>\n",
       "      <td>1</td>\n",
       "    </tr>\n",
       "    <tr>\n",
       "      <th>1</th>\n",
       "      <td>0</td>\n",
       "      <td>13</td>\n",
       "      <td>3250</td>\n",
       "      <td>28</td>\n",
       "      <td>1</td>\n",
       "    </tr>\n",
       "    <tr>\n",
       "      <th>2</th>\n",
       "      <td>1</td>\n",
       "      <td>16</td>\n",
       "      <td>4000</td>\n",
       "      <td>35</td>\n",
       "      <td>1</td>\n",
       "    </tr>\n",
       "    <tr>\n",
       "      <th>3</th>\n",
       "      <td>2</td>\n",
       "      <td>20</td>\n",
       "      <td>5000</td>\n",
       "      <td>45</td>\n",
       "      <td>1</td>\n",
       "    </tr>\n",
       "    <tr>\n",
       "      <th>4</th>\n",
       "      <td>1</td>\n",
       "      <td>24</td>\n",
       "      <td>6000</td>\n",
       "      <td>77</td>\n",
       "      <td>0</td>\n",
       "    </tr>\n",
       "    <tr>\n",
       "      <th>...</th>\n",
       "      <td>...</td>\n",
       "      <td>...</td>\n",
       "      <td>...</td>\n",
       "      <td>...</td>\n",
       "      <td>...</td>\n",
       "    </tr>\n",
       "    <tr>\n",
       "      <th>743</th>\n",
       "      <td>23</td>\n",
       "      <td>2</td>\n",
       "      <td>500</td>\n",
       "      <td>38</td>\n",
       "      <td>0</td>\n",
       "    </tr>\n",
       "    <tr>\n",
       "      <th>744</th>\n",
       "      <td>21</td>\n",
       "      <td>2</td>\n",
       "      <td>500</td>\n",
       "      <td>52</td>\n",
       "      <td>0</td>\n",
       "    </tr>\n",
       "    <tr>\n",
       "      <th>745</th>\n",
       "      <td>23</td>\n",
       "      <td>3</td>\n",
       "      <td>750</td>\n",
       "      <td>62</td>\n",
       "      <td>0</td>\n",
       "    </tr>\n",
       "    <tr>\n",
       "      <th>746</th>\n",
       "      <td>39</td>\n",
       "      <td>1</td>\n",
       "      <td>250</td>\n",
       "      <td>39</td>\n",
       "      <td>0</td>\n",
       "    </tr>\n",
       "    <tr>\n",
       "      <th>747</th>\n",
       "      <td>72</td>\n",
       "      <td>1</td>\n",
       "      <td>250</td>\n",
       "      <td>72</td>\n",
       "      <td>0</td>\n",
       "    </tr>\n",
       "  </tbody>\n",
       "</table>\n",
       "<p>748 rows × 5 columns</p>\n",
       "</div>"
      ],
      "text/plain": [
       "     Recency (months)  Frequency (times)  Monetary (c.c. blood)  \\\n",
       "0                   2                 50                  12500   \n",
       "1                   0                 13                   3250   \n",
       "2                   1                 16                   4000   \n",
       "3                   2                 20                   5000   \n",
       "4                   1                 24                   6000   \n",
       "..                ...                ...                    ...   \n",
       "743                23                  2                    500   \n",
       "744                21                  2                    500   \n",
       "745                23                  3                    750   \n",
       "746                39                  1                    250   \n",
       "747                72                  1                    250   \n",
       "\n",
       "     Time (months)  whether he/she donated blood in March 2007  \n",
       "0               98                                           1  \n",
       "1               28                                           1  \n",
       "2               35                                           1  \n",
       "3               45                                           1  \n",
       "4               77                                           0  \n",
       "..             ...                                         ...  \n",
       "743             38                                           0  \n",
       "744             52                                           0  \n",
       "745             62                                           0  \n",
       "746             39                                           0  \n",
       "747             72                                           0  \n",
       "\n",
       "[748 rows x 5 columns]"
      ]
     },
     "execution_count": 5,
     "metadata": {},
     "output_type": "execute_result"
    }
   ],
   "source": [
    "df #df.head() or df.tail()"
   ]
  },
  {
   "cell_type": "code",
   "execution_count": 6,
   "id": "4ea80ff1-ae90-4f2a-a060-31f655d5bc9a",
   "metadata": {},
   "outputs": [
    {
     "data": {
      "text/plain": [
       "Recency (months)                              int64\n",
       "Frequency (times)                             int64\n",
       "Monetary (c.c. blood)                         int64\n",
       "Time (months)                                 int64\n",
       "whether he/she donated blood in March 2007    int64\n",
       "dtype: object"
      ]
     },
     "execution_count": 6,
     "metadata": {},
     "output_type": "execute_result"
    }
   ],
   "source": [
    "df.dtypes"
   ]
  },
  {
   "cell_type": "code",
   "execution_count": 7,
   "id": "c39caa4b-8a33-4640-a1cc-f53bd4e2f3a9",
   "metadata": {},
   "outputs": [],
   "source": [
    "df.rename(columns={'whether he/she donated blood in March 2007': 'Donate'},inplace=True) "
   ]
  },
  {
   "cell_type": "code",
   "execution_count": 8,
   "id": "cb32c22e-2895-4ad1-8fea-46be280da7b9",
   "metadata": {},
   "outputs": [
    {
     "data": {
      "text/html": [
       "<div>\n",
       "<style scoped>\n",
       "    .dataframe tbody tr th:only-of-type {\n",
       "        vertical-align: middle;\n",
       "    }\n",
       "\n",
       "    .dataframe tbody tr th {\n",
       "        vertical-align: top;\n",
       "    }\n",
       "\n",
       "    .dataframe thead th {\n",
       "        text-align: right;\n",
       "    }\n",
       "</style>\n",
       "<table border=\"1\" class=\"dataframe\">\n",
       "  <thead>\n",
       "    <tr style=\"text-align: right;\">\n",
       "      <th></th>\n",
       "      <th>Recency (months)</th>\n",
       "      <th>Frequency (times)</th>\n",
       "      <th>Monetary (c.c. blood)</th>\n",
       "      <th>Time (months)</th>\n",
       "      <th>Donate</th>\n",
       "    </tr>\n",
       "  </thead>\n",
       "  <tbody>\n",
       "    <tr>\n",
       "      <th>count</th>\n",
       "      <td>748.000000</td>\n",
       "      <td>748.000000</td>\n",
       "      <td>748.000000</td>\n",
       "      <td>748.000000</td>\n",
       "      <td>748.000000</td>\n",
       "    </tr>\n",
       "    <tr>\n",
       "      <th>mean</th>\n",
       "      <td>9.506684</td>\n",
       "      <td>5.514706</td>\n",
       "      <td>1378.676471</td>\n",
       "      <td>34.282086</td>\n",
       "      <td>0.237968</td>\n",
       "    </tr>\n",
       "    <tr>\n",
       "      <th>std</th>\n",
       "      <td>8.095396</td>\n",
       "      <td>5.839307</td>\n",
       "      <td>1459.826781</td>\n",
       "      <td>24.376714</td>\n",
       "      <td>0.426124</td>\n",
       "    </tr>\n",
       "    <tr>\n",
       "      <th>min</th>\n",
       "      <td>0.000000</td>\n",
       "      <td>1.000000</td>\n",
       "      <td>250.000000</td>\n",
       "      <td>2.000000</td>\n",
       "      <td>0.000000</td>\n",
       "    </tr>\n",
       "    <tr>\n",
       "      <th>25%</th>\n",
       "      <td>2.750000</td>\n",
       "      <td>2.000000</td>\n",
       "      <td>500.000000</td>\n",
       "      <td>16.000000</td>\n",
       "      <td>0.000000</td>\n",
       "    </tr>\n",
       "    <tr>\n",
       "      <th>50%</th>\n",
       "      <td>7.000000</td>\n",
       "      <td>4.000000</td>\n",
       "      <td>1000.000000</td>\n",
       "      <td>28.000000</td>\n",
       "      <td>0.000000</td>\n",
       "    </tr>\n",
       "    <tr>\n",
       "      <th>75%</th>\n",
       "      <td>14.000000</td>\n",
       "      <td>7.000000</td>\n",
       "      <td>1750.000000</td>\n",
       "      <td>50.000000</td>\n",
       "      <td>0.000000</td>\n",
       "    </tr>\n",
       "    <tr>\n",
       "      <th>max</th>\n",
       "      <td>74.000000</td>\n",
       "      <td>50.000000</td>\n",
       "      <td>12500.000000</td>\n",
       "      <td>98.000000</td>\n",
       "      <td>1.000000</td>\n",
       "    </tr>\n",
       "  </tbody>\n",
       "</table>\n",
       "</div>"
      ],
      "text/plain": [
       "       Recency (months)  Frequency (times)  Monetary (c.c. blood)  \\\n",
       "count        748.000000         748.000000             748.000000   \n",
       "mean           9.506684           5.514706            1378.676471   \n",
       "std            8.095396           5.839307            1459.826781   \n",
       "min            0.000000           1.000000             250.000000   \n",
       "25%            2.750000           2.000000             500.000000   \n",
       "50%            7.000000           4.000000            1000.000000   \n",
       "75%           14.000000           7.000000            1750.000000   \n",
       "max           74.000000          50.000000           12500.000000   \n",
       "\n",
       "       Time (months)      Donate  \n",
       "count     748.000000  748.000000  \n",
       "mean       34.282086    0.237968  \n",
       "std        24.376714    0.426124  \n",
       "min         2.000000    0.000000  \n",
       "25%        16.000000    0.000000  \n",
       "50%        28.000000    0.000000  \n",
       "75%        50.000000    0.000000  \n",
       "max        98.000000    1.000000  "
      ]
     },
     "execution_count": 8,
     "metadata": {},
     "output_type": "execute_result"
    }
   ],
   "source": [
    "df.describe()"
   ]
  },
  {
   "cell_type": "code",
   "execution_count": 9,
   "id": "3fadbeea-f4fe-4e36-bde8-cbc6eb2f0f68",
   "metadata": {},
   "outputs": [
    {
     "data": {
      "text/plain": [
       "Recency (months)         0\n",
       "Frequency (times)        0\n",
       "Monetary (c.c. blood)    0\n",
       "Time (months)            0\n",
       "Donate                   0\n",
       "dtype: int64"
      ]
     },
     "execution_count": 9,
     "metadata": {},
     "output_type": "execute_result"
    }
   ],
   "source": [
    "df.isnull().sum()"
   ]
  },
  {
   "cell_type": "code",
   "execution_count": 10,
   "id": "6c011905-a777-4505-810d-6b18aeb810aa",
   "metadata": {},
   "outputs": [
    {
     "data": {
      "text/html": [
       "<div>\n",
       "<style scoped>\n",
       "    .dataframe tbody tr th:only-of-type {\n",
       "        vertical-align: middle;\n",
       "    }\n",
       "\n",
       "    .dataframe tbody tr th {\n",
       "        vertical-align: top;\n",
       "    }\n",
       "\n",
       "    .dataframe thead th {\n",
       "        text-align: right;\n",
       "    }\n",
       "</style>\n",
       "<table border=\"1\" class=\"dataframe\">\n",
       "  <thead>\n",
       "    <tr style=\"text-align: right;\">\n",
       "      <th></th>\n",
       "      <th>Recency (months)</th>\n",
       "      <th>Frequency (times)</th>\n",
       "      <th>Monetary (c.c. blood)</th>\n",
       "      <th>Time (months)</th>\n",
       "      <th>Donate</th>\n",
       "    </tr>\n",
       "  </thead>\n",
       "  <tbody>\n",
       "    <tr>\n",
       "      <th>Recency (months)</th>\n",
       "      <td>1.000000</td>\n",
       "      <td>-0.182745</td>\n",
       "      <td>-0.182745</td>\n",
       "      <td>0.160618</td>\n",
       "      <td>-0.279869</td>\n",
       "    </tr>\n",
       "    <tr>\n",
       "      <th>Frequency (times)</th>\n",
       "      <td>-0.182745</td>\n",
       "      <td>1.000000</td>\n",
       "      <td>1.000000</td>\n",
       "      <td>0.634940</td>\n",
       "      <td>0.218633</td>\n",
       "    </tr>\n",
       "    <tr>\n",
       "      <th>Monetary (c.c. blood)</th>\n",
       "      <td>-0.182745</td>\n",
       "      <td>1.000000</td>\n",
       "      <td>1.000000</td>\n",
       "      <td>0.634940</td>\n",
       "      <td>0.218633</td>\n",
       "    </tr>\n",
       "    <tr>\n",
       "      <th>Time (months)</th>\n",
       "      <td>0.160618</td>\n",
       "      <td>0.634940</td>\n",
       "      <td>0.634940</td>\n",
       "      <td>1.000000</td>\n",
       "      <td>-0.035854</td>\n",
       "    </tr>\n",
       "    <tr>\n",
       "      <th>Donate</th>\n",
       "      <td>-0.279869</td>\n",
       "      <td>0.218633</td>\n",
       "      <td>0.218633</td>\n",
       "      <td>-0.035854</td>\n",
       "      <td>1.000000</td>\n",
       "    </tr>\n",
       "  </tbody>\n",
       "</table>\n",
       "</div>"
      ],
      "text/plain": [
       "                       Recency (months)  Frequency (times)  \\\n",
       "Recency (months)               1.000000          -0.182745   \n",
       "Frequency (times)             -0.182745           1.000000   \n",
       "Monetary (c.c. blood)         -0.182745           1.000000   \n",
       "Time (months)                  0.160618           0.634940   \n",
       "Donate                        -0.279869           0.218633   \n",
       "\n",
       "                       Monetary (c.c. blood)  Time (months)    Donate  \n",
       "Recency (months)                   -0.182745       0.160618 -0.279869  \n",
       "Frequency (times)                   1.000000       0.634940  0.218633  \n",
       "Monetary (c.c. blood)               1.000000       0.634940  0.218633  \n",
       "Time (months)                       0.634940       1.000000 -0.035854  \n",
       "Donate                              0.218633      -0.035854  1.000000  "
      ]
     },
     "execution_count": 10,
     "metadata": {},
     "output_type": "execute_result"
    }
   ],
   "source": [
    "correlation_df=df.corr()\n",
    "correlation_df"
   ]
  },
  {
   "cell_type": "code",
   "execution_count": 11,
   "id": "f2d9518b-b04a-4c29-a549-5f97942ef4a7",
   "metadata": {},
   "outputs": [],
   "source": [
    "import seaborn as sns\n",
    "import matplotlib.pyplot as plt\n"
   ]
  },
  {
   "cell_type": "code",
   "execution_count": 12,
   "id": "180bc5fd-e197-474e-b386-b8c8c1763613",
   "metadata": {},
   "outputs": [
    {
     "data": {
      "image/png": "[encoded data removed]",
      "text/plain": [
       "<Figure size 1000x800 with 2 Axes>"
      ]
     },
     "metadata": {},
     "output_type": "display_data"
    }
   ],
   "source": [
    "plt.figure(figsize=(10, 8))\n",
    "sns.heatmap(correlation_df, annot=True, cmap=\"PuBu\", fmt=\".2f\")\n",
    "plt.title(\"Correlation Heatmap\")\n",
    "plt.show()"
   ]
  },
  {
   "cell_type": "code",
   "execution_count": 13,
   "id": "d625074c-b8a2-42b7-94ab-2b34d029cdc6",
   "metadata": {},
   "outputs": [
    {
     "data": {
      "text/plain": [
       "(748, 5)"
      ]
     },
     "execution_count": 13,
     "metadata": {},
     "output_type": "execute_result"
    }
   ],
   "source": [
    "df.shape"
   ]
  },
  {
   "cell_type": "code",
   "execution_count": 14,
   "id": "42c0637e-ff91-433e-a0d6-1eeebaeef480",
   "metadata": {},
   "outputs": [
    {
     "data": {
      "text/plain": [
       "0    76.0\n",
       "1    24.0\n",
       "Name: Donate, dtype: float64"
      ]
     },
     "execution_count": 14,
     "metadata": {},
     "output_type": "execute_result"
    }
   ],
   "source": [
    "percentage_counts=df[\"Donate\"].value_counts(normalize=True).round(2)*100\n",
    "percentage_counts"
   ]
  },
  {
   "cell_type": "markdown",
   "id": "c6b517fb-55c2-4fc4-856d-481a8704a2cf",
   "metadata": {},
   "source": [
    "76% did not donate blood inMarch 2007"
   ]
  },
  {
   "cell_type": "code",
   "execution_count": 16,
   "id": "00efa5c6-720c-4710-8013-e9f300dad3aa",
   "metadata": {},
   "outputs": [
    {
     "data": {
      "image/png": "[encoded data removed]",
      "text/plain": [
       "<Figure size 1200x1000 with 4 Axes>"
      ]
     },
     "metadata": {},
     "output_type": "display_data"
    }
   ],
   "source": [
    "df_drop = df.drop(columns=[\"Donate\"])\n",
    "df_target = df[\"Donate\"]\n",
    "\n",
    "bin_size = 40  \n",
    "df_drop.hist(figsize=(12, 10), bins=bin_size,edgecolor='black')\n",
    "plt.show()"
   ]
  },
  {
   "cell_type": "code",
   "execution_count": 17,
   "id": "792f9248-97f1-4c85-8d7b-58f25bbc5ead",
   "metadata": {},
   "outputs": [
    {
     "data": {
      "text/plain": [
       "Recency (months)              65.54\n",
       "Frequency (times)             34.10\n",
       "Monetary (c.c. blood)    2131094.23\n",
       "Time (months)                594.22\n",
       "dtype: float64"
      ]
     },
     "execution_count": 17,
     "metadata": {},
     "output_type": "execute_result"
    }
   ],
   "source": [
    "df_drop.var().round(2)"
   ]
  },
  {
   "cell_type": "code",
   "execution_count": 18,
   "id": "615bf73b-3892-4f2e-bdde-b4dc5b6b562f",
   "metadata": {},
   "outputs": [
    {
     "data": {
      "text/plain": [
       "0.18158194274423892"
      ]
     },
     "execution_count": 18,
     "metadata": {},
     "output_type": "execute_result"
    }
   ],
   "source": [
    "df_target.var()"
   ]
  },
  {
   "cell_type": "markdown",
   "id": "d993971d-635e-476c-8740-daa4410b2fdb",
   "metadata": {},
   "source": [
    "Min-Max Scaling:\n",
    "Suitable for data that has a known and definite upper and lower bound.\n",
    "Preserves the original distribution of the data but scales it to a specific range (typically between 0 and 1).\n",
    "Useful when you want to preserve the relationships between variables but ensure they fall within a specific range.\n",
    "Log Normalization:\n",
    "Suitable for data that is positively skewed or right-skewed, where most values are concentrated towards lower values but there are some extreme high values.\n",
    "Transforms the data to reduce the skewness and make the distribution more symmetric.\n",
    "Useful when you want to stabilize variance across different scales and improve the performance of certain algorithms that assume normally distributed data."
   ]
  },
  {
   "cell_type": "code",
   "execution_count": 20,
   "id": "0d6b0fd7-9b50-4473-9585-23c5896aeb27",
   "metadata": {},
   "outputs": [],
   "source": [
    "#df[collumns].apply(lambda x: np.log(x))"
   ]
  },
  {
   "cell_type": "code",
   "execution_count": 21,
   "id": "c23cea5f-e9f9-4395-8b56-5f06aec2d414",
   "metadata": {},
   "outputs": [
    {
     "data": {
      "text/html": [
       "<div>\n",
       "<style scoped>\n",
       "    .dataframe tbody tr th:only-of-type {\n",
       "        vertical-align: middle;\n",
       "    }\n",
       "\n",
       "    .dataframe tbody tr th {\n",
       "        vertical-align: top;\n",
       "    }\n",
       "\n",
       "    .dataframe thead th {\n",
       "        text-align: right;\n",
       "    }\n",
       "</style>\n",
       "<table border=\"1\" class=\"dataframe\">\n",
       "  <thead>\n",
       "    <tr style=\"text-align: right;\">\n",
       "      <th></th>\n",
       "      <th>Recency (months)</th>\n",
       "      <th>Frequency (times)</th>\n",
       "      <th>Monetary (c.c. blood)</th>\n",
       "      <th>Time (months)</th>\n",
       "    </tr>\n",
       "  </thead>\n",
       "  <tbody>\n",
       "    <tr>\n",
       "      <th>0</th>\n",
       "      <td>2</td>\n",
       "      <td>50</td>\n",
       "      <td>9.433484</td>\n",
       "      <td>4.584967</td>\n",
       "    </tr>\n",
       "    <tr>\n",
       "      <th>1</th>\n",
       "      <td>0</td>\n",
       "      <td>13</td>\n",
       "      <td>8.086410</td>\n",
       "      <td>3.332205</td>\n",
       "    </tr>\n",
       "    <tr>\n",
       "      <th>2</th>\n",
       "      <td>1</td>\n",
       "      <td>16</td>\n",
       "      <td>8.294050</td>\n",
       "      <td>3.555348</td>\n",
       "    </tr>\n",
       "    <tr>\n",
       "      <th>3</th>\n",
       "      <td>2</td>\n",
       "      <td>20</td>\n",
       "      <td>8.517193</td>\n",
       "      <td>3.806662</td>\n",
       "    </tr>\n",
       "    <tr>\n",
       "      <th>4</th>\n",
       "      <td>1</td>\n",
       "      <td>24</td>\n",
       "      <td>8.699515</td>\n",
       "      <td>4.343805</td>\n",
       "    </tr>\n",
       "    <tr>\n",
       "      <th>...</th>\n",
       "      <td>...</td>\n",
       "      <td>...</td>\n",
       "      <td>...</td>\n",
       "      <td>...</td>\n",
       "    </tr>\n",
       "    <tr>\n",
       "      <th>743</th>\n",
       "      <td>23</td>\n",
       "      <td>2</td>\n",
       "      <td>6.214608</td>\n",
       "      <td>3.637586</td>\n",
       "    </tr>\n",
       "    <tr>\n",
       "      <th>744</th>\n",
       "      <td>21</td>\n",
       "      <td>2</td>\n",
       "      <td>6.214608</td>\n",
       "      <td>3.951244</td>\n",
       "    </tr>\n",
       "    <tr>\n",
       "      <th>745</th>\n",
       "      <td>23</td>\n",
       "      <td>3</td>\n",
       "      <td>6.620073</td>\n",
       "      <td>4.127134</td>\n",
       "    </tr>\n",
       "    <tr>\n",
       "      <th>746</th>\n",
       "      <td>39</td>\n",
       "      <td>1</td>\n",
       "      <td>5.521461</td>\n",
       "      <td>3.663562</td>\n",
       "    </tr>\n",
       "    <tr>\n",
       "      <th>747</th>\n",
       "      <td>72</td>\n",
       "      <td>1</td>\n",
       "      <td>5.521461</td>\n",
       "      <td>4.276666</td>\n",
       "    </tr>\n",
       "  </tbody>\n",
       "</table>\n",
       "<p>748 rows × 4 columns</p>\n",
       "</div>"
      ],
      "text/plain": [
       "     Recency (months)  Frequency (times)  Monetary (c.c. blood)  Time (months)\n",
       "0                   2                 50               9.433484       4.584967\n",
       "1                   0                 13               8.086410       3.332205\n",
       "2                   1                 16               8.294050       3.555348\n",
       "3                   2                 20               8.517193       3.806662\n",
       "4                   1                 24               8.699515       4.343805\n",
       "..                ...                ...                    ...            ...\n",
       "743                23                  2               6.214608       3.637586\n",
       "744                21                  2               6.214608       3.951244\n",
       "745                23                  3               6.620073       4.127134\n",
       "746                39                  1               5.521461       3.663562\n",
       "747                72                  1               5.521461       4.276666\n",
       "\n",
       "[748 rows x 4 columns]"
      ]
     },
     "execution_count": 21,
     "metadata": {},
     "output_type": "execute_result"
    }
   ],
   "source": [
    "column_list = ['Monetary (c.c. blood)', 'Time (months)']  #or df_drop_copy=X.copy()\n",
    "#column_list = df_drop_copy.columns.tolist()\n",
    "#epsilon = 1e-10\n",
    "for column in column_list:\n",
    "    df_drop[column] = np.log(df_drop[column])#X[column] = np.log(X[column]+epsilon)\n",
    "\n",
    "df_drop\n"
   ]
  },
  {
   "cell_type": "code",
   "execution_count": 22,
   "id": "eef77ad3-97ac-4374-be70-493f7313c42b",
   "metadata": {},
   "outputs": [
    {
     "data": {
      "image/png": "[encoded data removed]",
      "text/plain": [
       "<Figure size 1200x1000 with 4 Axes>"
      ]
     },
     "metadata": {},
     "output_type": "display_data"
    }
   ],
   "source": [
    "bin_size = 30  \n",
    "df_drop.hist(figsize=(12, 10), bins=bin_size,edgecolor='black')\n",
    "plt.show()"
   ]
  },
  {
   "cell_type": "code",
   "execution_count": 23,
   "id": "6c689eb9-1293-48cf-82ee-07ec151cc951",
   "metadata": {},
   "outputs": [],
   "source": [
    "#df_drop_copy.var().round(2)"
   ]
  },
  {
   "cell_type": "code",
   "execution_count": 24,
   "id": "75250e64-9ee9-4787-ab23-d9fd06d1e4df",
   "metadata": {},
   "outputs": [
    {
     "data": {
      "text/plain": [
       "'\\n#df_normalized = pd.DataFrame(scaler.fit_transform(df[cols]), columns=cols)\\ndf_drop_copy = df_drop.copy()\\nfrom sklearn.preprocessing import MinMaxScaler\\n\\nscaler = MinMaxScaler()\\ndf_normalized = pd.DataFrame(scaler.fit_transform(df_drop_copy), columns=df_drop_copy.columns)\\n'"
      ]
     },
     "execution_count": 24,
     "metadata": {},
     "output_type": "execute_result"
    }
   ],
   "source": [
    "'''\n",
    "#df_normalized = pd.DataFrame(scaler.fit_transform(df[cols]), columns=cols)\n",
    "df_drop_copy = df_drop.copy()\n",
    "from sklearn.preprocessing import MinMaxScaler\n",
    "\n",
    "scaler = MinMaxScaler()\n",
    "df_normalized = pd.DataFrame(scaler.fit_transform(df_drop_copy), columns=df_drop_copy.columns)\n",
    "'''"
   ]
  },
  {
   "cell_type": "code",
   "execution_count": 25,
   "id": "f9e29b84-6bfe-4366-a406-aef68a575a0c",
   "metadata": {},
   "outputs": [
    {
     "data": {
      "text/plain": [
       "\"\\nbin_size = 40  \\ndf_normalized.hist(figsize=(12, 10), bins=bin_size,edgecolor='black')\\nplt.show()\\n\""
      ]
     },
     "execution_count": 25,
     "metadata": {},
     "output_type": "execute_result"
    }
   ],
   "source": [
    "'''\n",
    "bin_size = 40  \n",
    "df_normalized.hist(figsize=(12, 10), bins=bin_size,edgecolor='black')\n",
    "plt.show()\n",
    "'''"
   ]
  },
  {
   "cell_type": "markdown",
   "id": "2822d04c-05f3-483d-a60c-98327762ef6b",
   "metadata": {},
   "source": [
    "he variable \"Monetary (c.c. blood)\" has an extremely high variance (2131094.23) compared to the other variables. This indicates a wide range in the values of this variable, which suggests that it is highly skewed. Log scaling would help to normalize this variable and reduce its variance.\n",
    "\n",
    "Additionally, \"Time (months)\" has a relatively high variance (594.22) compared to \"Recency\" and \"Frequency.\" While not as extreme as \"Monetary,\" it may also benefit from log scaling if the distribution is highly skewed."
   ]
  },
  {
   "cell_type": "code",
   "execution_count": null,
   "id": "b243a637-6ed7-4e15-9b43-24cfff36b2ba",
   "metadata": {},
   "outputs": [],
   "source": []
  },
  {
   "cell_type": "code",
   "execution_count": 27,
   "id": "98d06021-1a2d-4c8e-82a7-a6994b4485a6",
   "metadata": {},
   "outputs": [
    {
     "data": {
      "text/plain": [
       "Recency (months)         65.54\n",
       "Frequency (times)        34.10\n",
       "Monetary (c.c. blood)     0.84\n",
       "Time (months)             0.95\n",
       "dtype: float64"
      ]
     },
     "execution_count": 27,
     "metadata": {},
     "output_type": "execute_result"
    }
   ],
   "source": [
    "df_drop.var().round(2)"
   ]
  },
  {
   "cell_type": "code",
   "execution_count": 28,
   "id": "5df010df-af08-4d6a-84f8-f2575b9c20bf",
   "metadata": {},
   "outputs": [],
   "source": [
    "from sklearn.model_selection import train_test_split\n",
    "X = df_drop\n",
    "Y = df_target\n",
    "X_train, X_test, y_train, y_test = train_test_split(\n",
    "    X, Y, test_size=0.25, \n",
    "    random_state=40,stratify=df[\"Donate\"])"
   ]
  },
  {
   "cell_type": "code",
   "execution_count": 29,
   "id": "149337cd-e52d-4530-bfe5-8a6d85c6f000",
   "metadata": {},
   "outputs": [
    {
     "name": "stdout",
     "output_type": "stream",
     "text": [
      "(561, 4) (187, 4)\n"
     ]
    }
   ],
   "source": [
    "print(X_train.shape,X_test.shape)"
   ]
  },
  {
   "cell_type": "code",
   "execution_count": 30,
   "id": "68123c94-b76e-4002-a1bd-cada19a47afa",
   "metadata": {},
   "outputs": [],
   "source": [
    "from sklearn.ensemble import RandomForestRegressor,RandomForestClassifier\n",
    "rand_model = RandomForestRegressor()\n",
    "rand_model.fit(X_train, y_train)\n",
    "# Evaluate the model\n",
    "y_pred_train = rand_model.predict(X_train)\n",
    "y_pred_test = rand_model.predict(X_test)\n",
    "\n"
   ]
  },
  {
   "cell_type": "code",
   "execution_count": 31,
   "id": "cad8d261-96fc-4611-9fc6-cac1be58bcd8",
   "metadata": {},
   "outputs": [
    {
     "name": "stdout",
     "output_type": "stream",
     "text": [
      "Mean Absolute Error (MAE): 0.282685087647869\n",
      "Mean Squared Error (MSE): 0.1651167133903382\n",
      "Root Mean Squared Error (RMSE): 0.40634555908775255\n",
      "R-squared (R2) Score: 0.08233211211908176\n"
     ]
    },
    {
     "name": "stderr",
     "output_type": "stream",
     "text": [
      "C:\\Users\\subag\\anaconda3\\lib\\site-packages\\sklearn\\metrics\\_regression.py:492: FutureWarning: 'squared' is deprecated in version 1.4 and will be removed in 1.6. To calculate the root mean squared error, use the function'root_mean_squared_error'.\n",
      "  warnings.warn(\n"
     ]
    }
   ],
   "source": [
    "from sklearn.metrics import mean_absolute_error, mean_squared_error, r2_score,accuracy_score\n",
    "\n",
    "#Calculate Mean Abs error (MAE)\n",
    "mae = mean_absolute_error(y_test, y_pred_test)\n",
    "print(\"Mean Absolute Error (MAE):\", mae)\n",
    "\n",
    "# Calculate Mean Squared Error (MSE)\n",
    "mse = mean_squared_error(y_test, y_pred_test)\n",
    "print(\"Mean Squared Error (MSE):\", mse)\n",
    "\n",
    "# Calculate Root Mean Squared Error (RMSE)\n",
    "rmse = mean_squared_error(y_test, y_pred_test, squared=False)\n",
    "print(\"Root Mean Squared Error (RMSE):\", rmse)\n",
    "\n",
    "# Calculate R-squared (R2) score\n",
    "r2 = r2_score(y_test, y_pred_test)\n",
    "print(\"R-squared (R2) Score:\", r2)\n"
   ]
  },
  {
   "cell_type": "code",
   "execution_count": 32,
   "id": "7ac24db0-56fb-4d53-a404-9dd2352df511",
   "metadata": {},
   "outputs": [
    {
     "name": "stdout",
     "output_type": "stream",
     "text": [
      "R-squared (R2) Score: 0.6591536920854577\n"
     ]
    }
   ],
   "source": [
    "\n",
    "r2_train = r2_score(y_train, y_pred_train)\n",
    "print(\"R-squared (R2) Score:\", r2_train)"
   ]
  },
  {
   "cell_type": "code",
   "execution_count": 79,
   "id": "2d5a3026-c361-4acc-9b6b-f13e7e981aab",
   "metadata": {},
   "outputs": [
    {
     "data": {
      "text/html": [
       "<div>\n",
       "<style scoped>\n",
       "    .dataframe tbody tr th:only-of-type {\n",
       "        vertical-align: middle;\n",
       "    }\n",
       "\n",
       "    .dataframe tbody tr th {\n",
       "        vertical-align: top;\n",
       "    }\n",
       "\n",
       "    .dataframe thead th {\n",
       "        text-align: right;\n",
       "    }\n",
       "</style>\n",
       "<table border=\"1\" class=\"dataframe\">\n",
       "  <thead>\n",
       "    <tr style=\"text-align: right;\">\n",
       "      <th></th>\n",
       "      <th>Model Name</th>\n",
       "      <th>Training accuracy</th>\n",
       "      <th>Test accuracy</th>\n",
       "    </tr>\n",
       "  </thead>\n",
       "  <tbody>\n",
       "    <tr>\n",
       "      <th>0</th>\n",
       "      <td>Logistic Regression</td>\n",
       "      <td>0.770053</td>\n",
       "      <td>0.775401</td>\n",
       "    </tr>\n",
       "    <tr>\n",
       "      <th>1</th>\n",
       "      <td>SVM</td>\n",
       "      <td>0.768271</td>\n",
       "      <td>0.770053</td>\n",
       "    </tr>\n",
       "    <tr>\n",
       "      <th>2</th>\n",
       "      <td>Decision Tree</td>\n",
       "      <td>0.803922</td>\n",
       "      <td>0.807487</td>\n",
       "    </tr>\n",
       "    <tr>\n",
       "      <th>3</th>\n",
       "      <td>KNN</td>\n",
       "      <td>0.832442</td>\n",
       "      <td>0.791444</td>\n",
       "    </tr>\n",
       "    <tr>\n",
       "      <th>4</th>\n",
       "      <td>Gradient Boosting</td>\n",
       "      <td>0.766488</td>\n",
       "      <td>0.764706</td>\n",
       "    </tr>\n",
       "    <tr>\n",
       "      <th>5</th>\n",
       "      <td>Random Forest Classifier</td>\n",
       "      <td>0.934046</td>\n",
       "      <td>0.791444</td>\n",
       "    </tr>\n",
       "  </tbody>\n",
       "</table>\n",
       "</div>"
      ],
      "text/plain": [
       "                 Model Name  Training accuracy  Test accuracy\n",
       "0       Logistic Regression           0.770053       0.775401\n",
       "1                       SVM           0.768271       0.770053\n",
       "2             Decision Tree           0.803922       0.807487\n",
       "3                       KNN           0.832442       0.791444\n",
       "4         Gradient Boosting           0.766488       0.764706\n",
       "5  Random Forest Classifier           0.934046       0.791444"
      ]
     },
     "execution_count": 79,
     "metadata": {},
     "output_type": "execute_result"
    }
   ],
   "source": [
    "from sklearn.linear_model import LogisticRegression\n",
    "from sklearn.svm import SVC\n",
    "from sklearn.tree import DecisionTreeClassifier\n",
    "from sklearn.neighbors import KNeighborsClassifier\n",
    "from sklearn.ensemble import GradientBoostingClassifier\n",
    "\n",
    "\n",
    "models = {\n",
    "    \"Logistic Regression\": LogisticRegression(C=10),\n",
    "    \"SVM\": SVC(C=0.5),\n",
    "    \"Decision Tree\": DecisionTreeClassifier( max_depth=4),\n",
    "    \"KNN\": KNeighborsClassifier(n_neighbors=2),\n",
    "    \"Gradient Boosting\": GradientBoostingClassifier(n_estimators=100, learning_rate=0.01),\n",
    "    \"Random Forest Classifier\": RandomForestClassifier(n_estimators=38, random_state=42)\n",
    "}\n",
    "results = []\n",
    "for name, model in models.items():\n",
    "  model.fit(X_train, y_train)\n",
    "  y_train_pred = model.predict(X_train)\n",
    "  y_pred = model.predict(X_test)\n",
    "\n",
    "  train_acc= accuracy_score(y_train, y_train_pred)\n",
    "  test_acc= accuracy_score(y_test, y_pred)\n",
    "  results.append([name, train_acc, test_acc])\n",
    "\n",
    "df_results = pd.DataFrame(results, columns=[\"Model Name\", \"Training accuracy\", \"Test accuracy\"])\n",
    "df_results"
   ]
  },
  {
   "cell_type": "code",
   "execution_count": 81,
   "id": "5ca0ca49-5cfb-4754-86cc-d54df97a5f31",
   "metadata": {},
   "outputs": [],
   "source": [
    "from sklearn.metrics import classification_report\n",
    "\n",
    "model= RandomForestClassifier(n_estimators= 38)  \n",
    "model.fit(X_train, y_train) \n",
    "y_predictions = model.predict(X_test)\n",
    "y_train_predictions = model.predict(X_train)"
   ]
  },
  {
   "cell_type": "code",
   "execution_count": 83,
   "id": "a42b5671-8a23-47df-9054-81e98a9b615f",
   "metadata": {},
   "outputs": [
    {
     "name": "stdout",
     "output_type": "stream",
     "text": [
      "Test_Set\n",
      "[[132  11]\n",
      " [ 35   9]]\n",
      "              precision    recall  f1-score   support\n",
      "\n",
      "           0       0.79      0.92      0.85       143\n",
      "           1       0.45      0.20      0.28        44\n",
      "\n",
      "    accuracy                           0.75       187\n",
      "   macro avg       0.62      0.56      0.57       187\n",
      "weighted avg       0.71      0.75      0.72       187\n",
      "\n"
     ]
    }
   ],
   "source": [
    "from sklearn.metrics import confusion_matrix\n",
    "\n",
    "print(\"Test_Set\")\n",
    "print(confusion_matrix(y_test, y_predictions))\n",
    "print(classification_report(y_test, y_predictions))"
   ]
  },
  {
   "cell_type": "code",
   "execution_count": 85,
   "id": "d5661c5d-d3bf-4660-ae9c-1178bd74e7ba",
   "metadata": {},
   "outputs": [
    {
     "name": "stdout",
     "output_type": "stream",
     "text": [
      "Train_Set\n",
      "[[421   6]\n",
      " [ 32 102]]\n",
      "              precision    recall  f1-score   support\n",
      "\n",
      "           0       0.93      0.99      0.96       427\n",
      "           1       0.94      0.76      0.84       134\n",
      "\n",
      "    accuracy                           0.93       561\n",
      "   macro avg       0.94      0.87      0.90       561\n",
      "weighted avg       0.93      0.93      0.93       561\n",
      "\n"
     ]
    }
   ],
   "source": [
    "print(\"Train_Set\")\n",
    "print(confusion_matrix(y_train, y_train_predictions))\n",
    "print(classification_report(y_train, y_train_predictions))"
   ]
  },
  {
   "cell_type": "code",
   "execution_count": 38,
   "id": "7b9950b5-dfd9-4fed-9617-aff4385aa23c",
   "metadata": {},
   "outputs": [],
   "source": [
    "#!pip install tpot"
   ]
  },
  {
   "cell_type": "code",
   "execution_count": 39,
   "id": "467f9861-11d1-422e-8304-2418f08139d1",
   "metadata": {},
   "outputs": [],
   "source": [
    "#pip install --upgrade scikit-learn\n"
   ]
  },
  {
   "cell_type": "code",
   "execution_count": 40,
   "id": "2b7339c1-fa2f-4063-95f7-cad24119ae80",
   "metadata": {},
   "outputs": [],
   "source": [
    "#pip install --upgrade tpot\n"
   ]
  },
  {
   "cell_type": "code",
   "execution_count": 41,
   "id": "342b44a4-a42c-4862-bc1e-fd291ce4102a",
   "metadata": {},
   "outputs": [],
   "source": [
    "#pip uninstall tpot scikit-learn\n"
   ]
  },
  {
   "cell_type": "code",
   "execution_count": 42,
   "id": "a08e67e3-4b70-4366-b17e-c2d0a5a6937e",
   "metadata": {},
   "outputs": [
    {
     "name": "stdout",
     "output_type": "stream",
     "text": [
      "Collecting tpot==0.11.7\n",
      "  Using cached TPOT-0.11.7-py3-none-any.whl (87 kB)\n",
      "Collecting scikit-learn==0.24.2\n",
      "  Using cached scikit-learn-0.24.2.tar.gz (7.5 MB)\n",
      "  Installing build dependencies: started\n",
      "  Installing build dependencies: finished with status 'done'\n",
      "  Getting requirements to build wheel: started\n",
      "  Getting requirements to build wheel: finished with status 'done'\n",
      "  Preparing metadata (pyproject.toml): started\n",
      "  Preparing metadata (pyproject.toml): finished with status 'error'\n",
      "Note: you may need to restart the kernel to use updated packages.\n"
     ]
    },
    {
     "name": "stderr",
     "output_type": "stream",
     "text": [
      "  error: subprocess-exited-with-error\n",
      "  \n",
      "  Preparing metadata (pyproject.toml) did not run successfully.\n",
      "  exit code: 1\n",
      "  \n",
      "  [54 lines of output]\n",
      "  <string>:17: DeprecationWarning: pkg_resources is deprecated as an API. See https://setuptools.pypa.io/en/latest/pkg_resources.html\n",
      "  Partial import of sklearn during the build process.\n",
      "  <string>:116: DeprecationWarning:\n",
      "  \n",
      "    `numpy.distutils` is deprecated since NumPy 1.23.0, as a result\n",
      "    of the deprecation of `distutils` itself. It will be removed for\n",
      "    Python >= 3.12. For older Python versions it will remain present.\n",
      "    It is recommended to use `setuptools < 60.0` for those Python versions.\n",
      "    For more details, see:\n",
      "      https://numpy.org/devdocs/reference/distutils_status_migration.html\n",
      "  \n",
      "  \n",
      "  INFO: No module named 'numpy.distutils._msvccompiler' in numpy.distutils; trying from distutils\n",
      "  Traceback (most recent call last):\n",
      "    File \"C:\\Users\\subag\\anaconda3\\lib\\site-packages\\pip\\_vendor\\pep517\\in_process\\_in_process.py\", line 351, in <module>\n",
      "      main()\n",
      "    File \"C:\\Users\\subag\\anaconda3\\lib\\site-packages\\pip\\_vendor\\pep517\\in_process\\_in_process.py\", line 333, in main\n",
      "      json_out['return_val'] = hook(**hook_input['kwargs'])\n",
      "    File \"C:\\Users\\subag\\anaconda3\\lib\\site-packages\\pip\\_vendor\\pep517\\in_process\\_in_process.py\", line 152, in prepare_metadata_for_build_wheel\n",
      "      return hook(metadata_directory, config_settings)\n",
      "    File \"C:\\Users\\subag\\AppData\\Local\\Temp\\pip-build-env-5c5hn4gy\\overlay\\Lib\\site-packages\\setuptools\\build_meta.py\", line 366, in prepare_metadata_for_build_wheel\n",
      "      self.run_setup()\n",
      "    File \"C:\\Users\\subag\\AppData\\Local\\Temp\\pip-build-env-5c5hn4gy\\overlay\\Lib\\site-packages\\setuptools\\build_meta.py\", line 487, in run_setup\n",
      "      super().run_setup(setup_script=setup_script)\n",
      "    File \"C:\\Users\\subag\\AppData\\Local\\Temp\\pip-build-env-5c5hn4gy\\overlay\\Lib\\site-packages\\setuptools\\build_meta.py\", line 311, in run_setup\n",
      "      exec(code, locals())\n",
      "    File \"<string>\", line 301, in <module>\n",
      "    File \"<string>\", line 297, in setup_package\n",
      "    File \"C:\\Users\\subag\\AppData\\Local\\Temp\\pip-build-env-5c5hn4gy\\overlay\\Lib\\site-packages\\numpy\\distutils\\core.py\", line 136, in setup\n",
      "      config = configuration()\n",
      "    File \"<string>\", line 188, in configuration\n",
      "    File \"C:\\Users\\subag\\AppData\\Local\\Temp\\pip-build-env-5c5hn4gy\\overlay\\Lib\\site-packages\\numpy\\distutils\\misc_util.py\", line 1050, in add_subpackage\n",
      "      config_list = self.get_subpackage(subpackage_name, subpackage_path,\n",
      "    File \"C:\\Users\\subag\\AppData\\Local\\Temp\\pip-build-env-5c5hn4gy\\overlay\\Lib\\site-packages\\numpy\\distutils\\misc_util.py\", line 1016, in get_subpackage\n",
      "      config = self._get_configuration_from_setup_py(\n",
      "    File \"C:\\Users\\subag\\AppData\\Local\\Temp\\pip-build-env-5c5hn4gy\\overlay\\Lib\\site-packages\\numpy\\distutils\\misc_util.py\", line 958, in _get_configuration_from_setup_py\n",
      "      config = setup_module.configuration(*args)\n",
      "    File \"C:\\Users\\subag\\AppData\\Local\\Temp\\pip-install-0n6m1mkg\\scikit-learn_d6203c07fdda410d8cd98a38ca9c3478\\sklearn\\setup.py\", line 83, in configuration\n",
      "      cythonize_extensions(top_path, config)\n",
      "    File \"C:\\Users\\subag\\AppData\\Local\\Temp\\pip-install-0n6m1mkg\\scikit-learn_d6203c07fdda410d8cd98a38ca9c3478\\sklearn\\_build_utils\\__init__.py\", line 45, in cythonize_extensions\n",
      "      basic_check_build()\n",
      "    File \"C:\\Users\\subag\\AppData\\Local\\Temp\\pip-install-0n6m1mkg\\scikit-learn_d6203c07fdda410d8cd98a38ca9c3478\\sklearn\\_build_utils\\pre_build_helpers.py\", line 106, in basic_check_build\n",
      "      compile_test_program(code)\n",
      "    File \"C:\\Users\\subag\\AppData\\Local\\Temp\\pip-install-0n6m1mkg\\scikit-learn_d6203c07fdda410d8cd98a38ca9c3478\\sklearn\\_build_utils\\pre_build_helpers.py\", line 66, in compile_test_program\n",
      "      ccompiler.compile(['test_program.c'], output_dir='objects',\n",
      "    File \"C:\\Users\\subag\\AppData\\Local\\Temp\\pip-build-env-5c5hn4gy\\overlay\\Lib\\site-packages\\setuptools\\_distutils\\_msvccompiler.py\", line 343, in compile\n",
      "      self.initialize()\n",
      "    File \"C:\\Users\\subag\\AppData\\Local\\Temp\\pip-build-env-5c5hn4gy\\overlay\\Lib\\site-packages\\setuptools\\_distutils\\_msvccompiler.py\", line 253, in initialize\n",
      "      vc_env = _get_vc_env(plat_spec)\n",
      "    File \"C:\\Users\\subag\\AppData\\Local\\Temp\\pip-build-env-5c5hn4gy\\overlay\\Lib\\site-packages\\setuptools\\msvc.py\", line 230, in msvc14_get_vc_env\n",
      "      return _msvc14_get_vc_env(plat_spec)\n",
      "    File \"C:\\Users\\subag\\AppData\\Local\\Temp\\pip-build-env-5c5hn4gy\\overlay\\Lib\\site-packages\\setuptools\\msvc.py\", line 187, in _msvc14_get_vc_env\n",
      "      raise distutils.errors.DistutilsPlatformError(\"Unable to find vcvarsall.bat\")\n",
      "  distutils.errors.DistutilsPlatformError: Microsoft Visual C++ 14.0 or greater is required. Get it with \"Microsoft C++ Build Tools\": https://visualstudio.microsoft.com/visual-cpp-build-tools/\n",
      "  [end of output]\n",
      "  \n",
      "  note: This error originates from a subprocess, and is likely not a problem with pip.\n",
      "error: metadata-generation-failed\n",
      "\n",
      "Encountered error while generating package metadata.\n",
      "\n",
      "See above for output.\n",
      "\n",
      "note: This is an issue with the package mentioned above, not pip.\n",
      "hint: See above for details.\n"
     ]
    }
   ],
   "source": [
    "#pip install tpot==0.11.7 scikit-learn==0.24.2"
   ]
  },
  {
   "cell_type": "code",
   "execution_count": 43,
   "id": "28c06fd2-c8d6-49d0-8855-ebc8199a5d55",
   "metadata": {},
   "outputs": [
    {
     "data": {
      "application/vnd.jupyter.widget-view+json": {
       "model_id": "",
       "version_major": 2,
       "version_minor": 0
      },
      "text/plain": [
       "Optimization Progress:   0%|          | 0/160 [00:00<?, ?pipeline/s]"
      ]
     },
     "metadata": {},
     "output_type": "display_data"
    },
    {
     "name": "stdout",
     "output_type": "stream",
     "text": [
      "\n",
      "Generation 1 - Current best internal CV score: 0.7432469278707309\n",
      "\n",
      "Generation 2 - Current best internal CV score: 0.7432469278707309\n",
      "\n",
      "Generation 3 - Current best internal CV score: 0.7438929227027722\n",
      "\n",
      "Generation 4 - Current best internal CV score: 0.7496788538512205\n",
      "\n",
      "Generation 5 - Current best internal CV score: 0.7496788538512205\n",
      "\n",
      "Generation 6 - Current best internal CV score: 0.7572338949493532\n",
      "\n",
      "Generation 7 - Current best internal CV score: 0.7572338949493532\n",
      "\n",
      "Best pipeline: KNeighborsClassifier(MaxAbsScaler(input_matrix), n_neighbors=38, p=2, weights=uniform)\n",
      "\n",
      "AUC score: 0.7823\n",
      "\n",
      "Best pipeline steps:\n",
      "1. MaxAbsScaler()\n",
      "2. KNeighborsClassifier(n_neighbors=38)\n"
     ]
    }
   ],
   "source": [
    "from tpot import TPOTClassifier\n",
    "from sklearn.metrics import roc_auc_score,accuracy_score\n",
    "\n",
    "    \n",
    "tpot = TPOTClassifier(\n",
    "    generations=7,\n",
    "    population_size=20,\n",
    "    verbosity=2,\n",
    "    scoring='roc_auc',\n",
    "    random_state=42,\n",
    "    disable_update_check=True,\n",
    "    config_dict='TPOT light'\n",
    ")\n",
    "tpot.fit(X_train, y_train)\n",
    "\n",
    "tpot_auc_score = roc_auc_score(y_test, tpot.predict_proba(X_test)[:, 1])\n",
    "print(f'\\nAUC score: {tpot_auc_score:.4f}')\n",
    "\n",
    "\n",
    "print('\\nBest pipeline steps:', end='\\n')\n",
    "for idx, (name, transform) in enumerate(tpot.fitted_pipeline_.steps, start=1):\n",
    "    print(f'{idx}. {transform}')\n"
   ]
  },
  {
   "cell_type": "markdown",
   "id": "85f568ef-be76-4f33-b99b-25a423dbcc56",
   "metadata": {},
   "source": [
    "- TPOTClassifier is an automated machine learning tool that optimizes machine learning pipelines using genetic programming.\n",
    "- roc_auc_score is a function from sklearn that computes the Area Under the Receiver Operating Characteristic Curve (ROC AUC) from prediction scores."
   ]
  },
  {
   "cell_type": "code",
   "execution_count": 45,
   "id": "9a7bba0f-5534-47be-9e97-9814180fab3f",
   "metadata": {},
   "outputs": [
    {
     "name": "stdout",
     "output_type": "stream",
     "text": [
      "\n",
      "Evaluating with scoring: accuracy\n"
     ]
    },
    {
     "data": {
      "application/vnd.jupyter.widget-view+json": {
       "model_id": "",
       "version_major": 2,
       "version_minor": 0
      },
      "text/plain": [
       "Optimization Progress:   0%|          | 0/320 [00:00<?, ?pipeline/s]"
      ]
     },
     "metadata": {},
     "output_type": "display_data"
    },
    {
     "name": "stdout",
     "output_type": "stream",
     "text": [
      "\n",
      "Generation 1 - Current best internal CV score: 0.7789190897597977\n",
      "\n",
      "Generation 2 - Current best internal CV score: 0.7789190897597977\n",
      "\n",
      "Generation 3 - Current best internal CV score: 0.7789348925410873\n",
      "\n",
      "Generation 4 - Current best internal CV score: 0.7789348925410873\n",
      "\n",
      "Generation 5 - Current best internal CV score: 0.7789348925410873\n",
      "\n",
      "Generation 6 - Current best internal CV score: 0.7789348925410873\n",
      "\n",
      "Generation 7 - Current best internal CV score: 0.7789348925410874\n",
      "\n",
      "Best pipeline: DecisionTreeClassifier(input_matrix, criterion=gini, max_depth=10, min_samples_leaf=19, min_samples_split=15)\n",
      "\n",
      "Accuracy score: 0.8021\n",
      "\n",
      "Best pipeline steps:\n",
      "1. DecisionTreeClassifier(max_depth=10, min_samples_leaf=19, min_samples_split=15,\n",
      "                       random_state=42)\n",
      "\n",
      "Evaluating with scoring: precision\n"
     ]
    },
    {
     "data": {
      "application/vnd.jupyter.widget-view+json": {
       "model_id": "",
       "version_major": 2,
       "version_minor": 0
      },
      "text/plain": [
       "Optimization Progress:   0%|          | 0/320 [00:00<?, ?pipeline/s]"
      ]
     },
     "metadata": {},
     "output_type": "display_data"
    },
    {
     "name": "stdout",
     "output_type": "stream",
     "text": [
      "\n",
      "Generation 1 - Current best internal CV score: 0.7666666666666666\n",
      "\n",
      "Generation 2 - Current best internal CV score: 0.7666666666666666\n",
      "\n",
      "Generation 3 - Current best internal CV score: 0.7666666666666666\n",
      "\n",
      "Generation 4 - Current best internal CV score: 0.8\n",
      "\n",
      "Generation 5 - Current best internal CV score: 0.8\n",
      "\n",
      "Generation 6 - Current best internal CV score: 0.8\n",
      "\n",
      "Generation 7 - Current best internal CV score: 0.8\n",
      "\n",
      "Best pipeline: LogisticRegression(MaxAbsScaler(input_matrix), C=5.0, dual=False, penalty=l2)\n",
      "\n",
      "Precision score: 0.6667\n",
      "\n",
      "Best pipeline steps:\n",
      "1. MaxAbsScaler()\n",
      "2. LogisticRegression(C=5.0, random_state=42)\n",
      "\n",
      "Evaluating with scoring: f1\n"
     ]
    },
    {
     "data": {
      "application/vnd.jupyter.widget-view+json": {
       "model_id": "",
       "version_major": 2,
       "version_minor": 0
      },
      "text/plain": [
       "Optimization Progress:   0%|          | 0/320 [00:00<?, ?pipeline/s]"
      ]
     },
     "metadata": {},
     "output_type": "display_data"
    },
    {
     "name": "stdout",
     "output_type": "stream",
     "text": [
      "\n",
      "Generation 1 - Current best internal CV score: 0.49547255965734227\n",
      "\n",
      "Generation 2 - Current best internal CV score: 0.49884501504417356\n",
      "\n",
      "Generation 3 - Current best internal CV score: 0.49884501504417356\n",
      "\n",
      "Generation 4 - Current best internal CV score: 0.49884501504417356\n",
      "\n",
      "Generation 5 - Current best internal CV score: 0.49884501504417356\n",
      "\n",
      "Generation 6 - Current best internal CV score: 0.49884501504417356\n",
      "\n",
      "Generation 7 - Current best internal CV score: 0.49884501504417356\n",
      "\n",
      "Best pipeline: MultinomialNB(Normalizer(input_matrix, norm=l1), alpha=100.0, fit_prior=False)\n",
      "\n",
      "F1 score: 0.5405\n",
      "\n",
      "Best pipeline steps:\n",
      "1. Normalizer(norm='l1')\n",
      "2. MultinomialNB(alpha=100.0, fit_prior=False)\n",
      "\n",
      "Evaluating with scoring: recall\n"
     ]
    },
    {
     "data": {
      "application/vnd.jupyter.widget-view+json": {
       "model_id": "",
       "version_major": 2,
       "version_minor": 0
      },
      "text/plain": [
       "Optimization Progress:   0%|          | 0/320 [00:00<?, ?pipeline/s]"
      ]
     },
     "metadata": {},
     "output_type": "display_data"
    },
    {
     "name": "stdout",
     "output_type": "stream",
     "text": [
      "\n",
      "Generation 1 - Current best internal CV score: 0.962962962962963\n",
      "\n",
      "Generation 2 - Current best internal CV score: 0.962962962962963\n",
      "\n",
      "Generation 3 - Current best internal CV score: 0.962962962962963\n",
      "\n",
      "Generation 4 - Current best internal CV score: 0.962962962962963\n",
      "\n",
      "Generation 5 - Current best internal CV score: 0.962962962962963\n",
      "\n",
      "Generation 6 - Current best internal CV score: 0.962962962962963\n",
      "\n",
      "Generation 7 - Current best internal CV score: 0.962962962962963\n",
      "\n",
      "Best pipeline: MultinomialNB(Binarizer(input_matrix, threshold=0.9500000000000001), alpha=100.0, fit_prior=False)\n",
      "\n",
      "Recall score: 0.9773\n",
      "\n",
      "Best pipeline steps:\n",
      "1. Binarizer(threshold=0.9500000000000001)\n",
      "2. MultinomialNB(alpha=100.0, fit_prior=False)\n"
     ]
    }
   ],
   "source": [
    "from tpot import TPOTClassifier\n",
    "from sklearn.metrics import accuracy_score, precision_score, recall_score, f1_score\n",
    "\n",
    "# Define the configurations\n",
    "configurations = [\n",
    "    {'name': 'accuracy', 'scoring': accuracy_score},\n",
    "    {'name': 'precision', 'scoring': precision_score},\n",
    "    {'name': 'f1', 'scoring': f1_score},\n",
    "    {'name': 'recall', 'scoring': recall_score}\n",
    "]\n",
    "\n",
    "# Loop through configurations\n",
    "for config in configurations:\n",
    "    print(f'\\nEvaluating with scoring: {config[\"name\"]}')\n",
    "    \n",
    "    tpot = TPOTClassifier(\n",
    "        generations=7,\n",
    "        population_size=40,\n",
    "        verbosity=2,\n",
    "        scoring=config['name'],\n",
    "        random_state=42,\n",
    "        disable_update_check=True,\n",
    "        config_dict='TPOT light'\n",
    "    )\n",
    "    tpot.fit(X_train, y_train)\n",
    "    \n",
    "    score = config['scoring'](y_test, tpot.predict(X_test))\n",
    "    \n",
    "    print(f'\\n{config[\"name\"].capitalize()} score: {score:.4f}')\n",
    "    \n",
    "    print('\\nBest pipeline steps:', end='\\n')\n",
    "    for idx, (name, transform) in enumerate(tpot.fitted_pipeline_.steps, start=1):\n",
    "        print(f'{idx}. {transform}')\n"
   ]
  },
  {
   "cell_type": "code",
   "execution_count": null,
   "id": "d2c2b567-2daa-4d86-974f-74395e9e002a",
   "metadata": {},
   "outputs": [],
   "source": []
  },
  {
   "cell_type": "code",
   "execution_count": null,
   "id": "dc714b71-f291-49ac-9777-dae192587091",
   "metadata": {},
   "outputs": [],
   "source": []
  },
  {
   "cell_type": "code",
   "execution_count": 46,
   "id": "0dd72b1a-d072-498b-a9f6-44ed12b336c1",
   "metadata": {},
   "outputs": [
    {
     "data": {
      "text/html": [
       "<div>\n",
       "<style scoped>\n",
       "    .dataframe tbody tr th:only-of-type {\n",
       "        vertical-align: middle;\n",
       "    }\n",
       "\n",
       "    .dataframe tbody tr th {\n",
       "        vertical-align: top;\n",
       "    }\n",
       "\n",
       "    .dataframe thead th {\n",
       "        text-align: right;\n",
       "    }\n",
       "</style>\n",
       "<table border=\"1\" class=\"dataframe\">\n",
       "  <thead>\n",
       "    <tr style=\"text-align: right;\">\n",
       "      <th></th>\n",
       "      <th>Recency (months)</th>\n",
       "      <th>Frequency (times)</th>\n",
       "      <th>Monetary (c.c. blood)</th>\n",
       "      <th>Time (months)</th>\n",
       "      <th>Donate</th>\n",
       "    </tr>\n",
       "  </thead>\n",
       "  <tbody>\n",
       "    <tr>\n",
       "      <th>0</th>\n",
       "      <td>2</td>\n",
       "      <td>50</td>\n",
       "      <td>12500</td>\n",
       "      <td>98</td>\n",
       "      <td>1</td>\n",
       "    </tr>\n",
       "    <tr>\n",
       "      <th>1</th>\n",
       "      <td>0</td>\n",
       "      <td>13</td>\n",
       "      <td>3250</td>\n",
       "      <td>28</td>\n",
       "      <td>1</td>\n",
       "    </tr>\n",
       "    <tr>\n",
       "      <th>2</th>\n",
       "      <td>1</td>\n",
       "      <td>16</td>\n",
       "      <td>4000</td>\n",
       "      <td>35</td>\n",
       "      <td>1</td>\n",
       "    </tr>\n",
       "    <tr>\n",
       "      <th>3</th>\n",
       "      <td>2</td>\n",
       "      <td>20</td>\n",
       "      <td>5000</td>\n",
       "      <td>45</td>\n",
       "      <td>1</td>\n",
       "    </tr>\n",
       "    <tr>\n",
       "      <th>4</th>\n",
       "      <td>1</td>\n",
       "      <td>24</td>\n",
       "      <td>6000</td>\n",
       "      <td>77</td>\n",
       "      <td>0</td>\n",
       "    </tr>\n",
       "    <tr>\n",
       "      <th>...</th>\n",
       "      <td>...</td>\n",
       "      <td>...</td>\n",
       "      <td>...</td>\n",
       "      <td>...</td>\n",
       "      <td>...</td>\n",
       "    </tr>\n",
       "    <tr>\n",
       "      <th>743</th>\n",
       "      <td>23</td>\n",
       "      <td>2</td>\n",
       "      <td>500</td>\n",
       "      <td>38</td>\n",
       "      <td>0</td>\n",
       "    </tr>\n",
       "    <tr>\n",
       "      <th>744</th>\n",
       "      <td>21</td>\n",
       "      <td>2</td>\n",
       "      <td>500</td>\n",
       "      <td>52</td>\n",
       "      <td>0</td>\n",
       "    </tr>\n",
       "    <tr>\n",
       "      <th>745</th>\n",
       "      <td>23</td>\n",
       "      <td>3</td>\n",
       "      <td>750</td>\n",
       "      <td>62</td>\n",
       "      <td>0</td>\n",
       "    </tr>\n",
       "    <tr>\n",
       "      <th>746</th>\n",
       "      <td>39</td>\n",
       "      <td>1</td>\n",
       "      <td>250</td>\n",
       "      <td>39</td>\n",
       "      <td>0</td>\n",
       "    </tr>\n",
       "    <tr>\n",
       "      <th>747</th>\n",
       "      <td>72</td>\n",
       "      <td>1</td>\n",
       "      <td>250</td>\n",
       "      <td>72</td>\n",
       "      <td>0</td>\n",
       "    </tr>\n",
       "  </tbody>\n",
       "</table>\n",
       "<p>748 rows × 5 columns</p>\n",
       "</div>"
      ],
      "text/plain": [
       "     Recency (months)  Frequency (times)  Monetary (c.c. blood)  \\\n",
       "0                   2                 50                  12500   \n",
       "1                   0                 13                   3250   \n",
       "2                   1                 16                   4000   \n",
       "3                   2                 20                   5000   \n",
       "4                   1                 24                   6000   \n",
       "..                ...                ...                    ...   \n",
       "743                23                  2                    500   \n",
       "744                21                  2                    500   \n",
       "745                23                  3                    750   \n",
       "746                39                  1                    250   \n",
       "747                72                  1                    250   \n",
       "\n",
       "     Time (months)  Donate  \n",
       "0               98       1  \n",
       "1               28       1  \n",
       "2               35       1  \n",
       "3               45       1  \n",
       "4               77       0  \n",
       "..             ...     ...  \n",
       "743             38       0  \n",
       "744             52       0  \n",
       "745             62       0  \n",
       "746             39       0  \n",
       "747             72       0  \n",
       "\n",
       "[748 rows x 5 columns]"
      ]
     },
     "execution_count": 46,
     "metadata": {},
     "output_type": "execute_result"
    }
   ],
   "source": [
    "df"
   ]
  },
  {
   "cell_type": "code",
   "execution_count": 47,
   "id": "622b255f-ab03-4141-b611-e88a47b27bcb",
   "metadata": {},
   "outputs": [
    {
     "data": {
      "text/html": [
       "<div>\n",
       "<style scoped>\n",
       "    .dataframe tbody tr th:only-of-type {\n",
       "        vertical-align: middle;\n",
       "    }\n",
       "\n",
       "    .dataframe tbody tr th {\n",
       "        vertical-align: top;\n",
       "    }\n",
       "\n",
       "    .dataframe thead th {\n",
       "        text-align: right;\n",
       "    }\n",
       "</style>\n",
       "<table border=\"1\" class=\"dataframe\">\n",
       "  <thead>\n",
       "    <tr style=\"text-align: right;\">\n",
       "      <th></th>\n",
       "      <th>Recency (months)</th>\n",
       "      <th>Frequency (times)</th>\n",
       "      <th>Monetary (c.c. blood)</th>\n",
       "      <th>Time (months)</th>\n",
       "      <th>Donate</th>\n",
       "    </tr>\n",
       "  </thead>\n",
       "  <tbody>\n",
       "    <tr>\n",
       "      <th>count</th>\n",
       "      <td>748.000000</td>\n",
       "      <td>748.000000</td>\n",
       "      <td>748.000000</td>\n",
       "      <td>748.000000</td>\n",
       "      <td>748.000000</td>\n",
       "    </tr>\n",
       "    <tr>\n",
       "      <th>mean</th>\n",
       "      <td>9.506684</td>\n",
       "      <td>5.514706</td>\n",
       "      <td>1378.676471</td>\n",
       "      <td>34.282086</td>\n",
       "      <td>0.237968</td>\n",
       "    </tr>\n",
       "    <tr>\n",
       "      <th>std</th>\n",
       "      <td>8.095396</td>\n",
       "      <td>5.839307</td>\n",
       "      <td>1459.826781</td>\n",
       "      <td>24.376714</td>\n",
       "      <td>0.426124</td>\n",
       "    </tr>\n",
       "    <tr>\n",
       "      <th>min</th>\n",
       "      <td>0.000000</td>\n",
       "      <td>1.000000</td>\n",
       "      <td>250.000000</td>\n",
       "      <td>2.000000</td>\n",
       "      <td>0.000000</td>\n",
       "    </tr>\n",
       "    <tr>\n",
       "      <th>25%</th>\n",
       "      <td>2.750000</td>\n",
       "      <td>2.000000</td>\n",
       "      <td>500.000000</td>\n",
       "      <td>16.000000</td>\n",
       "      <td>0.000000</td>\n",
       "    </tr>\n",
       "    <tr>\n",
       "      <th>50%</th>\n",
       "      <td>7.000000</td>\n",
       "      <td>4.000000</td>\n",
       "      <td>1000.000000</td>\n",
       "      <td>28.000000</td>\n",
       "      <td>0.000000</td>\n",
       "    </tr>\n",
       "    <tr>\n",
       "      <th>75%</th>\n",
       "      <td>14.000000</td>\n",
       "      <td>7.000000</td>\n",
       "      <td>1750.000000</td>\n",
       "      <td>50.000000</td>\n",
       "      <td>0.000000</td>\n",
       "    </tr>\n",
       "    <tr>\n",
       "      <th>max</th>\n",
       "      <td>74.000000</td>\n",
       "      <td>50.000000</td>\n",
       "      <td>12500.000000</td>\n",
       "      <td>98.000000</td>\n",
       "      <td>1.000000</td>\n",
       "    </tr>\n",
       "  </tbody>\n",
       "</table>\n",
       "</div>"
      ],
      "text/plain": [
       "       Recency (months)  Frequency (times)  Monetary (c.c. blood)  \\\n",
       "count        748.000000         748.000000             748.000000   \n",
       "mean           9.506684           5.514706            1378.676471   \n",
       "std            8.095396           5.839307            1459.826781   \n",
       "min            0.000000           1.000000             250.000000   \n",
       "25%            2.750000           2.000000             500.000000   \n",
       "50%            7.000000           4.000000            1000.000000   \n",
       "75%           14.000000           7.000000            1750.000000   \n",
       "max           74.000000          50.000000           12500.000000   \n",
       "\n",
       "       Time (months)      Donate  \n",
       "count     748.000000  748.000000  \n",
       "mean       34.282086    0.237968  \n",
       "std        24.376714    0.426124  \n",
       "min         2.000000    0.000000  \n",
       "25%        16.000000    0.000000  \n",
       "50%        28.000000    0.000000  \n",
       "75%        50.000000    0.000000  \n",
       "max        98.000000    1.000000  "
      ]
     },
     "execution_count": 47,
     "metadata": {},
     "output_type": "execute_result"
    }
   ],
   "source": [
    "df.describe()"
   ]
  },
  {
   "cell_type": "code",
   "execution_count": 53,
   "id": "f5ab59d4-6898-467f-ac98-7cedf07ddc13",
   "metadata": {},
   "outputs": [
    {
     "data": {
      "text/html": [
       "<div>\n",
       "<style scoped>\n",
       "    .dataframe tbody tr th:only-of-type {\n",
       "        vertical-align: middle;\n",
       "    }\n",
       "\n",
       "    .dataframe tbody tr th {\n",
       "        vertical-align: top;\n",
       "    }\n",
       "\n",
       "    .dataframe thead th {\n",
       "        text-align: right;\n",
       "    }\n",
       "</style>\n",
       "<table border=\"1\" class=\"dataframe\">\n",
       "  <thead>\n",
       "    <tr style=\"text-align: right;\">\n",
       "      <th></th>\n",
       "      <th>Recency (months)</th>\n",
       "      <th>Frequency (times)</th>\n",
       "      <th>Monetary (c.c. blood)</th>\n",
       "    </tr>\n",
       "  </thead>\n",
       "  <tbody>\n",
       "    <tr>\n",
       "      <th>0</th>\n",
       "      <td>2</td>\n",
       "      <td>50</td>\n",
       "      <td>12500</td>\n",
       "    </tr>\n",
       "    <tr>\n",
       "      <th>1</th>\n",
       "      <td>0</td>\n",
       "      <td>13</td>\n",
       "      <td>3250</td>\n",
       "    </tr>\n",
       "    <tr>\n",
       "      <th>2</th>\n",
       "      <td>1</td>\n",
       "      <td>16</td>\n",
       "      <td>4000</td>\n",
       "    </tr>\n",
       "    <tr>\n",
       "      <th>3</th>\n",
       "      <td>2</td>\n",
       "      <td>20</td>\n",
       "      <td>5000</td>\n",
       "    </tr>\n",
       "    <tr>\n",
       "      <th>4</th>\n",
       "      <td>1</td>\n",
       "      <td>24</td>\n",
       "      <td>6000</td>\n",
       "    </tr>\n",
       "    <tr>\n",
       "      <th>...</th>\n",
       "      <td>...</td>\n",
       "      <td>...</td>\n",
       "      <td>...</td>\n",
       "    </tr>\n",
       "    <tr>\n",
       "      <th>743</th>\n",
       "      <td>23</td>\n",
       "      <td>2</td>\n",
       "      <td>500</td>\n",
       "    </tr>\n",
       "    <tr>\n",
       "      <th>744</th>\n",
       "      <td>21</td>\n",
       "      <td>2</td>\n",
       "      <td>500</td>\n",
       "    </tr>\n",
       "    <tr>\n",
       "      <th>745</th>\n",
       "      <td>23</td>\n",
       "      <td>3</td>\n",
       "      <td>750</td>\n",
       "    </tr>\n",
       "    <tr>\n",
       "      <th>746</th>\n",
       "      <td>39</td>\n",
       "      <td>1</td>\n",
       "      <td>250</td>\n",
       "    </tr>\n",
       "    <tr>\n",
       "      <th>747</th>\n",
       "      <td>72</td>\n",
       "      <td>1</td>\n",
       "      <td>250</td>\n",
       "    </tr>\n",
       "  </tbody>\n",
       "</table>\n",
       "<p>748 rows × 3 columns</p>\n",
       "</div>"
      ],
      "text/plain": [
       "     Recency (months)  Frequency (times)  Monetary (c.c. blood)\n",
       "0                   2                 50                  12500\n",
       "1                   0                 13                   3250\n",
       "2                   1                 16                   4000\n",
       "3                   2                 20                   5000\n",
       "4                   1                 24                   6000\n",
       "..                ...                ...                    ...\n",
       "743                23                  2                    500\n",
       "744                21                  2                    500\n",
       "745                23                  3                    750\n",
       "746                39                  1                    250\n",
       "747                72                  1                    250\n",
       "\n",
       "[748 rows x 3 columns]"
      ]
     },
     "execution_count": 53,
     "metadata": {},
     "output_type": "execute_result"
    }
   ],
   "source": [
    "selected_columns = ['Recency (months)', 'Frequency (times)', 'Monetary (c.c. blood)']\n",
    "RFM_df=df[selected_columns]\n",
    "RFM_df"
   ]
  },
  {
   "cell_type": "code",
   "execution_count": null,
   "id": "8be7fc82-24b8-4f73-b377-d5f87a294a72",
   "metadata": {},
   "outputs": [],
   "source": []
  },
  {
   "cell_type": "code",
   "execution_count": 89,
   "id": "33a63808-ab45-4fed-b31c-bf0bfee8d302",
   "metadata": {},
   "outputs": [
    {
     "name": "stdout",
     "output_type": "stream",
     "text": [
      "Accuracy: 0.7600\n",
      "ROC-AUC: 0.6153\n"
     ]
    }
   ],
   "source": [
    "X_RFM = RFM_df\n",
    "y_RFM = df['Donate']\n",
    "\n",
    "\n",
    "X_RFM_train, X_RFM_test, y_RFM_train, y_RFM_test = train_test_split(X_RFM, y_RFM, test_size=0.3, random_state=42)\n",
    "\n",
    "# Train model (e.g., Random Forest)\n",
    "model_RFM = RandomForestClassifier(n_estimators=38, random_state=42)\n",
    "model_RFM.fit(X_RFM_train, y_RFM_train)\n",
    "\n",
    "# Make predictions\n",
    "y_RFM_pred = model_RFM.predict(X_RFM_test)\n",
    "y_RFM_pred_proba = model_RFM.predict_proba(X_RFM_test)[:, 1]\n",
    "\n",
    "# Evaluate the model\n",
    "accuracy_RFM = accuracy_score(y_RFM_test, y_RFM_pred)\n",
    "roc_auc_RFM = roc_auc_score(y_RFM_test, y_RFM_pred_proba)\n",
    "\n",
    "print(f'Accuracy: {accuracy_RFM:.4f}')\n",
    "print(f'ROC-AUC: {roc_auc_RFM:.4f}')"
   ]
  },
  {
   "cell_type": "code",
   "execution_count": null,
   "id": "e92bb0a1-7449-4293-a802-5bb263ca5d44",
   "metadata": {},
   "outputs": [],
   "source": []
  }
 ],
 "metadata": {
  "kernelspec": {
   "display_name": "Python 3 (ipykernel)",
   "language": "python",
   "name": "python3"
  },
  "language_info": {
   "codemirror_mode": {
    "name": "ipython",
    "version": 3
   },
   "file_extension": ".py",
   "mimetype": "text/x-python",
   "name": "python",
   "nbconvert_exporter": "python",
   "pygments_lexer": "ipython3",
   "version": "3.10.9"
  }
 },
 "nbformat": 4,
 "nbformat_minor": 5
}
