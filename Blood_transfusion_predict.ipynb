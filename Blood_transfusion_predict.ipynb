{
 "cells": [
  {
   "cell_type": "code",
   "execution_count": null,
   "id": "9fc3006c-2034-4bd9-8120-21ae193bda4e",
   "metadata": {},
   "outputs": [],
   "source": []
  },
  {
   "cell_type": "code",
   "execution_count": 1,
   "id": "0c7d6d39-e337-4f9a-bee4-0a6c5ad14917",
   "metadata": {},
   "outputs": [
    {
     "name": "stdin",
     "output_type": "stream",
     "text": [
      "Do you have a .csv file or enter manually? (Enter 'csv' for a .csv file, 'manually' for enter data manually):  csv\n",
      "enter file path:  C:\\Users\\subag\\Downloads\\GitHub\\properties\\100_python\\transfusion.csv\n"
     ]
    },
    {
     "name": "stdout",
     "output_type": "stream",
     "text": [
      "+----+-----------+-------------+------------+--------+----------+---------------+\n",
      "|    |   Recency |   Frequency |   Monetary |   Time |   Donate |   predictions |\n",
      "|----+-----------+-------------+------------+--------+----------+---------------|\n",
      "|  0 |         2 |          50 |      12500 |     98 |        1 |             0 |\n",
      "|  1 |         0 |          13 |       3250 |     28 |        1 |             0 |\n",
      "|  2 |         1 |          16 |       4000 |     35 |        1 |             0 |\n",
      "|  3 |         2 |          20 |       5000 |     45 |        1 |             0 |\n",
      "|  4 |         1 |          24 |       6000 |     77 |        0 |             0 |\n",
      "|  5 |         4 |           4 |       1000 |      4 |        0 |             0 |\n",
      "|  6 |         2 |           7 |       1750 |     14 |        1 |             0 |\n",
      "|  7 |         1 |          12 |       3000 |     35 |        0 |             0 |\n",
      "|  8 |         2 |           9 |       2250 |     22 |        1 |             0 |\n",
      "|  9 |         5 |          46 |      11500 |     98 |        1 |             0 |\n",
      "+----+-----------+-------------+------------+--------+----------+---------------+\n",
      "0    94.0\n",
      "1     6.0\n",
      "Name: predictions, dtype: float64\n"
     ]
    }
   ],
   "source": [
    "import joblib\n",
    "import numpy as np\n",
    "from datetime import datetime\n",
    "import pandas as pd\n",
    "from tabulate import tabulate\n",
    "\n",
    "data_or_file = input(\"Do you have a .csv file or enter manually? (Enter 'csv' for a .csv file, 'manually' for enter data manually): \").strip().upper()\n",
    "\n",
    "if data_or_file == 'MANUALLY':\n",
    "    \n",
    "    choice = input(\"Do you want to use dates or RFMT? (Enter 'DATES' for dates, 'RFMT' for RFMT): \").strip().upper()\n",
    "\n",
    "    if choice == 'DATES':\n",
    "    \n",
    "        first_donated_date_str = input(\"Enter date first donated (YYYY-MM-DD): \")\n",
    "        last_donated_date_str = input(\"Enter last donated date (YYYY-MM-DD): \")\n",
    "        Frequency = int(input(\"Enter how many times donated: \"))\n",
    "\n",
    "        donation_vol = []\n",
    "\n",
    "        for i in range(1, Frequency + 1):\n",
    "            volume = float(input(f\"Enter the volume of donation {i} (in ml): \"))\n",
    "            donation_vol.append(volume)\n",
    "\n",
    "        Donated_ml = sum(donation_vol)\n",
    "\n",
    "        first_donated_date = datetime.strptime(first_donated_date_str, '%Y-%m-%d')\n",
    "        last_donated_date = datetime.strptime(last_donated_date_str, '%Y-%m-%d')\n",
    "\n",
    "        today = datetime.now()\n",
    "        Recency = (today.year - last_donated_date.year) * 12 + (today.month - last_donated_date.month)\n",
    "\n",
    "        Monetary = Donated_ml\n",
    "\n",
    "        Time = (today.year - first_donated_date.year) * 12 + (today.month - first_donated_date.month)\n",
    "\n",
    "    elif choice == 'RFMT':\n",
    "        Recency = float(input(\"Enter Recency (months): \"))\n",
    "        Frequency = float(input(\"Enter Frequency (times): \"))\n",
    "        Monetary = float(input(\"Enter Monetary (c.c. blood): \"))\n",
    "        Time = float(input(\"Enter Time (months since first donation): \"))\n",
    "    \n",
    "    else:\n",
    "        print(\"Invalid choice. Please restart and enter 'DATES' or 'RFMT'.\")\n",
    "        exit()\n",
    "\n",
    "    X_test = np.array([[Recency, Frequency, Monetary, Time]])\n",
    "    # Load the model from the file\n",
    "    model = joblib.load('decision_tree_model.pkl')\n",
    "\n",
    "    predictions = model.predict(X_test)\n",
    "    if predictions == [0]:\n",
    "        print(\"Will donate? No\")\n",
    "    else:\n",
    "        print(\"Will donate? Yes\")\n",
    "\n",
    "elif data_or_file == 'CSV':\n",
    "    file_path = input(\"enter file path: \")#C:\\Users\\subag\\Downloads\\GitHub\\properties\\100_python\\transfusion.csv\n",
    "\n",
    "\n",
    "    df = pd.read_csv(file_path)\n",
    "    df.columns = [\"Recency\", \"Frequency\", \"Monetary\", \"Time\", \"Donate\"]\n",
    "    df_drop=df[[\"Recency\", \"Frequency\", \"Monetary\", \"Time\"]]\n",
    "\n",
    "    # Create X_test array\n",
    "    X_test = df_drop\n",
    "    # Load the model from the file\n",
    "    model = joblib.load('decision_tree_model.pkl')\n",
    "\n",
    "    predictions = model.predict(X_test)\n",
    "    df[\"predictions\"]=predictions\n",
    "    percentage_counts=df[\"predictions\"].value_counts(normalize=True).round(2)*100\n",
    "    \n",
    "    print(tabulate(df.head(10), headers='keys', tablefmt='psql'))\n",
    "    print(percentage_counts)"
   ]
  },
  {
   "cell_type": "code",
   "execution_count": null,
   "id": "658ccc36-3e93-46e7-8e60-8b7fbad48ccc",
   "metadata": {},
   "outputs": [],
   "source": []
  }
 ],
 "metadata": {
  "kernelspec": {
   "display_name": "Python 3 (ipykernel)",
   "language": "python",
   "name": "python3"
  },
  "language_info": {
   "codemirror_mode": {
    "name": "ipython",
    "version": 3
   },
   "file_extension": ".py",
   "mimetype": "text/x-python",
   "name": "python",
   "nbconvert_exporter": "python",
   "pygments_lexer": "ipython3",
   "version": "3.10.9"
  }
 },
 "nbformat": 4,
 "nbformat_minor": 5
}
