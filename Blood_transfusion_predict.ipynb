{
 "cells": [
  {
   "cell_type": "code",
   "execution_count": null,
   "id": "9fc3006c-2034-4bd9-8120-21ae193bda4e",
   "metadata": {},
   "outputs": [],
   "source": []
  },
  {
   "cell_type": "code",
   "execution_count": 1,
   "id": "0c7d6d39-e337-4f9a-bee4-0a6c5ad14917",
   "metadata": {},
   "outputs": [
    {
     "name": "stdin",
     "output_type": "stream",
     "text": [
      "Do you have a .csv file or enter manually? (Enter 'csv' for a .csv file, 'manually' for enter data manually):  manually\n",
      "Do you want to use dates or RFMT? (Enter 'DATES' for dates, 'RFMT' for RFMT):  dates\n",
      "Enter date first donated (YYYY-MM-DD):  2021-05-15\n",
      "Enter last donated date (YYYY-MM-DD):  2022-12-15\n",
      "Enter how many times donated:  3\n",
      "Enter the volume of donation 1 (in ml):  489\n",
      "Enter the volume of donation 2 (in ml):  490\n",
      "Enter the volume of donation 3 (in ml):  491\n"
     ]
    },
    {
     "name": "stdout",
     "output_type": "stream",
     "text": [
      "Will donate? No\n"
     ]
    },
    {
     "name": "stderr",
     "output_type": "stream",
     "text": [
      "C:\\Users\\subag\\anaconda3\\lib\\site-packages\\sklearn\\base.py:493: UserWarning: X does not have valid feature names, but RandomForestClassifier was fitted with feature names\n",
      "  warnings.warn(\n"
     ]
    }
   ],
   "source": [
    "import joblib\n",
    "import numpy as np\n",
    "from datetime import datetime\n",
    "import pandas as pd\n",
    "from tabulate import tabulate\n",
    "\n",
    "data_or_file = input(\"Do you have a .csv file or enter manually? (Enter 'csv' for a .csv file, 'manually' for enter data manually): \").strip().upper()\n",
    "\n",
    "if data_or_file == 'MANUALLY':\n",
    "    \n",
    "    choice = input(\"Do you want to use dates or RFMT? (Enter 'DATES' for dates, 'RFMT' for RFMT): \").strip().upper()\n",
    "\n",
    "    if choice == 'DATES':\n",
    "    \n",
    "        first_donated_date_str = input(\"Enter date first donated (YYYY-MM-DD): \")\n",
    "        last_donated_date_str = input(\"Enter last donated date (YYYY-MM-DD): \")\n",
    "        Frequency = int(input(\"Enter how many times donated: \"))\n",
    "\n",
    "        donation_vol = []\n",
    "\n",
    "        for i in range(1, Frequency + 1):\n",
    "            volume = float(input(f\"Enter the volume of donation {i} (in ml): \"))\n",
    "            donation_vol.append(volume)\n",
    "\n",
    "        Donated_ml = sum(donation_vol)\n",
    "\n",
    "        first_donated_date = datetime.strptime(first_donated_date_str, '%Y-%m-%d')\n",
    "        last_donated_date = datetime.strptime(last_donated_date_str, '%Y-%m-%d')\n",
    "\n",
    "        today = datetime.now()\n",
    "        Recency = (today.year - last_donated_date.year) * 12 + (today.month - last_donated_date.month)\n",
    "\n",
    "        Monetary = Donated_ml\n",
    "\n",
    "        Time = (today.year - first_donated_date.year) * 12 + (today.month - first_donated_date.month)\n",
    "\n",
    "    elif choice == 'RFMT':\n",
    "        Recency = float(input(\"Enter Recency (months): \"))\n",
    "        Frequency = float(input(\"Enter Frequency (times): \"))\n",
    "        Monetary = float(input(\"Enter Monetary (c.c. blood): \"))\n",
    "        Time = float(input(\"Enter Time (months since first donation): \"))\n",
    "    \n",
    "    else:\n",
    "        print(\"Invalid choice. Please restart and enter 'DATES' or 'RFMT'.\")\n",
    "        exit()\n",
    "\n",
    "    X_test = np.array([[Recency, Frequency, Monetary, Time]])\n",
    "    # Load the model from the file\n",
    "    model = joblib.load('decision_tree_model.pkl')\n",
    "\n",
    "    predictions = model.predict(X_test)\n",
    "    if predictions == [0]:\n",
    "        print(\"Will donate? No\")\n",
    "    else:\n",
    "        print(\"Will donate? Yes\")\n",
    "\n",
    "elif data_or_file == 'CSV':\n",
    "    file_path = input(\"enter file path: \")#C:\\Users\\subag\\Downloads\\GitHub\\properties\\100_python\\transfusion.csv\n",
    "\n",
    "\n",
    "    df = pd.read_csv(file_path)\n",
    "    df.columns = [\"Recency\", \"Frequency\", \"Monetary\", \"Time\", \"Donate\"]\n",
    "    df_drop=df[[\"Recency\", \"Frequency\", \"Monetary\", \"Time\"]]\n",
    "\n",
    "    # Create X_test array\n",
    "    X_test = df_drop\n",
    "    # Load the model from the file\n",
    "    model = joblib.load('decision_tree_model.pkl')\n",
    "\n",
    "    predictions = model.predict(X_test)\n",
    "    df[\"predictions\"]=predictions\n",
    "    percentage_counts=df[\"predictions\"].value_counts(normalize=True).round(2)*100\n",
    "    \n",
    "    print(tabulate(df.head(10), headers='keys', tablefmt='psql'))\n",
    "    print(percentage_counts)"
   ]
  },
  {
   "cell_type": "code",
   "execution_count": null,
   "id": "97e55128-e2bb-4e31-94a2-52cec4793915",
   "metadata": {},
   "outputs": [],
   "source": []
  }
 ],
 "metadata": {
  "kernelspec": {
   "display_name": "Python 3 (ipykernel)",
   "language": "python",
   "name": "python3"
  },
  "language_info": {
   "codemirror_mode": {
    "name": "ipython",
    "version": 3
   },
   "file_extension": ".py",
   "mimetype": "text/x-python",
   "name": "python",
   "nbconvert_exporter": "python",
   "pygments_lexer": "ipython3",
   "version": "3.10.9"
  }
 },
 "nbformat": 4,
 "nbformat_minor": 5
}
